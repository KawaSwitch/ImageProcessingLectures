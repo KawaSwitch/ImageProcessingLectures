{
  "nbformat": 4,
  "nbformat_minor": 0,
  "metadata": {
    "colab": {
      "name": "2020ImageProcessing_Problem9_2.ipynb",
      "provenance": [],
      "collapsed_sections": []
    },
    "kernelspec": {
      "name": "python3",
      "display_name": "Python 3"
    }
  },
  "cells": [
    {
      "cell_type": "code",
      "metadata": {
        "id": "VU-w3HIqIbjF",
        "colab_type": "code",
        "colab": {
          "base_uri": "https://localhost:8080/",
          "height": 70
        },
        "outputId": "0b506d38-8c99-47d7-c436-7a2a94116a10"
      },
      "source": [
        "%matplotlib inline\n",
        "import cv2 #　opencvのインポート\n",
        "import matplotlib\n",
        "import matplotlib.pyplot as plt # matplotlib(描画用)\n",
        "import numpy as np\n",
        "import math, time\n",
        "from scipy.cluster.hierarchy import linkage,dendrogram, fcluster\n",
        "\n",
        "print('opencv version: ' + cv2.__version__)\n",
        "print('matplotlib version: ' + matplotlib.__version__)\n",
        "print('numpy version: ' + np.__version__)"
      ],
      "execution_count": 116,
      "outputs": [
        {
          "output_type": "stream",
          "text": [
            "opencv version: 4.1.2\n",
            "matplotlib version: 3.2.2\n",
            "numpy version: 1.18.5\n"
          ],
          "name": "stdout"
        }
      ]
    },
    {
      "cell_type": "code",
      "metadata": {
        "id": "vSYUWbZmIgCR",
        "colab_type": "code",
        "colab": {
          "resources": {
            "http://localhost:8080/nbextensions/google.colab/files.js": {
              "data": "Ly8gQ29weXJpZ2h0IDIwMTcgR29vZ2xlIExMQwovLwovLyBMaWNlbnNlZCB1bmRlciB0aGUgQXBhY2hlIExpY2Vuc2UsIFZlcnNpb24gMi4wICh0aGUgIkxpY2Vuc2UiKTsKLy8geW91IG1heSBub3QgdXNlIHRoaXMgZmlsZSBleGNlcHQgaW4gY29tcGxpYW5jZSB3aXRoIHRoZSBMaWNlbnNlLgovLyBZb3UgbWF5IG9idGFpbiBhIGNvcHkgb2YgdGhlIExpY2Vuc2UgYXQKLy8KLy8gICAgICBodHRwOi8vd3d3LmFwYWNoZS5vcmcvbGljZW5zZXMvTElDRU5TRS0yLjAKLy8KLy8gVW5sZXNzIHJlcXVpcmVkIGJ5IGFwcGxpY2FibGUgbGF3IG9yIGFncmVlZCB0byBpbiB3cml0aW5nLCBzb2Z0d2FyZQovLyBkaXN0cmlidXRlZCB1bmRlciB0aGUgTGljZW5zZSBpcyBkaXN0cmlidXRlZCBvbiBhbiAiQVMgSVMiIEJBU0lTLAovLyBXSVRIT1VUIFdBUlJBTlRJRVMgT1IgQ09ORElUSU9OUyBPRiBBTlkgS0lORCwgZWl0aGVyIGV4cHJlc3Mgb3IgaW1wbGllZC4KLy8gU2VlIHRoZSBMaWNlbnNlIGZvciB0aGUgc3BlY2lmaWMgbGFuZ3VhZ2UgZ292ZXJuaW5nIHBlcm1pc3Npb25zIGFuZAovLyBsaW1pdGF0aW9ucyB1bmRlciB0aGUgTGljZW5zZS4KCi8qKgogKiBAZmlsZW92ZXJ2aWV3IEhlbHBlcnMgZm9yIGdvb2dsZS5jb2xhYiBQeXRob24gbW9kdWxlLgogKi8KKGZ1bmN0aW9uKHNjb3BlKSB7CmZ1bmN0aW9uIHNwYW4odGV4dCwgc3R5bGVBdHRyaWJ1dGVzID0ge30pIHsKICBjb25zdCBlbGVtZW50ID0gZG9jdW1lbnQuY3JlYXRlRWxlbWVudCgnc3BhbicpOwogIGVsZW1lbnQudGV4dENvbnRlbnQgPSB0ZXh0OwogIGZvciAoY29uc3Qga2V5IG9mIE9iamVjdC5rZXlzKHN0eWxlQXR0cmlidXRlcykpIHsKICAgIGVsZW1lbnQuc3R5bGVba2V5XSA9IHN0eWxlQXR0cmlidXRlc1trZXldOwogIH0KICByZXR1cm4gZWxlbWVudDsKfQoKLy8gTWF4IG51bWJlciBvZiBieXRlcyB3aGljaCB3aWxsIGJlIHVwbG9hZGVkIGF0IGEgdGltZS4KY29uc3QgTUFYX1BBWUxPQURfU0laRSA9IDEwMCAqIDEwMjQ7CgpmdW5jdGlvbiBfdXBsb2FkRmlsZXMoaW5wdXRJZCwgb3V0cHV0SWQpIHsKICBjb25zdCBzdGVwcyA9IHVwbG9hZEZpbGVzU3RlcChpbnB1dElkLCBvdXRwdXRJZCk7CiAgY29uc3Qgb3V0cHV0RWxlbWVudCA9IGRvY3VtZW50LmdldEVsZW1lbnRCeUlkKG91dHB1dElkKTsKICAvLyBDYWNoZSBzdGVwcyBvbiB0aGUgb3V0cHV0RWxlbWVudCB0byBtYWtlIGl0IGF2YWlsYWJsZSBmb3IgdGhlIG5leHQgY2FsbAogIC8vIHRvIHVwbG9hZEZpbGVzQ29udGludWUgZnJvbSBQeXRob24uCiAgb3V0cHV0RWxlbWVudC5zdGVwcyA9IHN0ZXBzOwoKICByZXR1cm4gX3VwbG9hZEZpbGVzQ29udGludWUob3V0cHV0SWQpOwp9CgovLyBUaGlzIGlzIHJvdWdobHkgYW4gYXN5bmMgZ2VuZXJhdG9yIChub3Qgc3VwcG9ydGVkIGluIHRoZSBicm93c2VyIHlldCksCi8vIHdoZXJlIHRoZXJlIGFyZSBtdWx0aXBsZSBhc3luY2hyb25vdXMgc3RlcHMgYW5kIHRoZSBQeXRob24gc2lkZSBpcyBnb2luZwovLyB0byBwb2xsIGZvciBjb21wbGV0aW9uIG9mIGVhY2ggc3RlcC4KLy8gVGhpcyB1c2VzIGEgUHJvbWlzZSB0byBibG9jayB0aGUgcHl0aG9uIHNpZGUgb24gY29tcGxldGlvbiBvZiBlYWNoIHN0ZXAsCi8vIHRoZW4gcGFzc2VzIHRoZSByZXN1bHQgb2YgdGhlIHByZXZpb3VzIHN0ZXAgYXMgdGhlIGlucHV0IHRvIHRoZSBuZXh0IHN0ZXAuCmZ1bmN0aW9uIF91cGxvYWRGaWxlc0NvbnRpbnVlKG91dHB1dElkKSB7CiAgY29uc3Qgb3V0cHV0RWxlbWVudCA9IGRvY3VtZW50LmdldEVsZW1lbnRCeUlkKG91dHB1dElkKTsKICBjb25zdCBzdGVwcyA9IG91dHB1dEVsZW1lbnQuc3RlcHM7CgogIGNvbnN0IG5leHQgPSBzdGVwcy5uZXh0KG91dHB1dEVsZW1lbnQubGFzdFByb21pc2VWYWx1ZSk7CiAgcmV0dXJuIFByb21pc2UucmVzb2x2ZShuZXh0LnZhbHVlLnByb21pc2UpLnRoZW4oKHZhbHVlKSA9PiB7CiAgICAvLyBDYWNoZSB0aGUgbGFzdCBwcm9taXNlIHZhbHVlIHRvIG1ha2UgaXQgYXZhaWxhYmxlIHRvIHRoZSBuZXh0CiAgICAvLyBzdGVwIG9mIHRoZSBnZW5lcmF0b3IuCiAgICBvdXRwdXRFbGVtZW50Lmxhc3RQcm9taXNlVmFsdWUgPSB2YWx1ZTsKICAgIHJldHVybiBuZXh0LnZhbHVlLnJlc3BvbnNlOwogIH0pOwp9CgovKioKICogR2VuZXJhdG9yIGZ1bmN0aW9uIHdoaWNoIGlzIGNhbGxlZCBiZXR3ZWVuIGVhY2ggYXN5bmMgc3RlcCBvZiB0aGUgdXBsb2FkCiAqIHByb2Nlc3MuCiAqIEBwYXJhbSB7c3RyaW5nfSBpbnB1dElkIEVsZW1lbnQgSUQgb2YgdGhlIGlucHV0IGZpbGUgcGlja2VyIGVsZW1lbnQuCiAqIEBwYXJhbSB7c3RyaW5nfSBvdXRwdXRJZCBFbGVtZW50IElEIG9mIHRoZSBvdXRwdXQgZGlzcGxheS4KICogQHJldHVybiB7IUl0ZXJhYmxlPCFPYmplY3Q+fSBJdGVyYWJsZSBvZiBuZXh0IHN0ZXBzLgogKi8KZnVuY3Rpb24qIHVwbG9hZEZpbGVzU3RlcChpbnB1dElkLCBvdXRwdXRJZCkgewogIGNvbnN0IGlucHV0RWxlbWVudCA9IGRvY3VtZW50LmdldEVsZW1lbnRCeUlkKGlucHV0SWQpOwogIGlucHV0RWxlbWVudC5kaXNhYmxlZCA9IGZhbHNlOwoKICBjb25zdCBvdXRwdXRFbGVtZW50ID0gZG9jdW1lbnQuZ2V0RWxlbWVudEJ5SWQob3V0cHV0SWQpOwogIG91dHB1dEVsZW1lbnQuaW5uZXJIVE1MID0gJyc7CgogIGNvbnN0IHBpY2tlZFByb21pc2UgPSBuZXcgUHJvbWlzZSgocmVzb2x2ZSkgPT4gewogICAgaW5wdXRFbGVtZW50LmFkZEV2ZW50TGlzdGVuZXIoJ2NoYW5nZScsIChlKSA9PiB7CiAgICAgIHJlc29sdmUoZS50YXJnZXQuZmlsZXMpOwogICAgfSk7CiAgfSk7CgogIGNvbnN0IGNhbmNlbCA9IGRvY3VtZW50LmNyZWF0ZUVsZW1lbnQoJ2J1dHRvbicpOwogIGlucHV0RWxlbWVudC5wYXJlbnRFbGVtZW50LmFwcGVuZENoaWxkKGNhbmNlbCk7CiAgY2FuY2VsLnRleHRDb250ZW50ID0gJ0NhbmNlbCB1cGxvYWQnOwogIGNvbnN0IGNhbmNlbFByb21pc2UgPSBuZXcgUHJvbWlzZSgocmVzb2x2ZSkgPT4gewogICAgY2FuY2VsLm9uY2xpY2sgPSAoKSA9PiB7CiAgICAgIHJlc29sdmUobnVsbCk7CiAgICB9OwogIH0pOwoKICAvLyBXYWl0IGZvciB0aGUgdXNlciB0byBwaWNrIHRoZSBmaWxlcy4KICBjb25zdCBmaWxlcyA9IHlpZWxkIHsKICAgIHByb21pc2U6IFByb21pc2UucmFjZShbcGlja2VkUHJvbWlzZSwgY2FuY2VsUHJvbWlzZV0pLAogICAgcmVzcG9uc2U6IHsKICAgICAgYWN0aW9uOiAnc3RhcnRpbmcnLAogICAgfQogIH07CgogIGNhbmNlbC5yZW1vdmUoKTsKCiAgLy8gRGlzYWJsZSB0aGUgaW5wdXQgZWxlbWVudCBzaW5jZSBmdXJ0aGVyIHBpY2tzIGFyZSBub3QgYWxsb3dlZC4KICBpbnB1dEVsZW1lbnQuZGlzYWJsZWQgPSB0cnVlOwoKICBpZiAoIWZpbGVzKSB7CiAgICByZXR1cm4gewogICAgICByZXNwb25zZTogewogICAgICAgIGFjdGlvbjogJ2NvbXBsZXRlJywKICAgICAgfQogICAgfTsKICB9CgogIGZvciAoY29uc3QgZmlsZSBvZiBmaWxlcykgewogICAgY29uc3QgbGkgPSBkb2N1bWVudC5jcmVhdGVFbGVtZW50KCdsaScpOwogICAgbGkuYXBwZW5kKHNwYW4oZmlsZS5uYW1lLCB7Zm9udFdlaWdodDogJ2JvbGQnfSkpOwogICAgbGkuYXBwZW5kKHNwYW4oCiAgICAgICAgYCgke2ZpbGUudHlwZSB8fCAnbi9hJ30pIC0gJHtmaWxlLnNpemV9IGJ5dGVzLCBgICsKICAgICAgICBgbGFzdCBtb2RpZmllZDogJHsKICAgICAgICAgICAgZmlsZS5sYXN0TW9kaWZpZWREYXRlID8gZmlsZS5sYXN0TW9kaWZpZWREYXRlLnRvTG9jYWxlRGF0ZVN0cmluZygpIDoKICAgICAgICAgICAgICAgICAgICAgICAgICAgICAgICAgICAgJ24vYSd9IC0gYCkpOwogICAgY29uc3QgcGVyY2VudCA9IHNwYW4oJzAlIGRvbmUnKTsKICAgIGxpLmFwcGVuZENoaWxkKHBlcmNlbnQpOwoKICAgIG91dHB1dEVsZW1lbnQuYXBwZW5kQ2hpbGQobGkpOwoKICAgIGNvbnN0IGZpbGVEYXRhUHJvbWlzZSA9IG5ldyBQcm9taXNlKChyZXNvbHZlKSA9PiB7CiAgICAgIGNvbnN0IHJlYWRlciA9IG5ldyBGaWxlUmVhZGVyKCk7CiAgICAgIHJlYWRlci5vbmxvYWQgPSAoZSkgPT4gewogICAgICAgIHJlc29sdmUoZS50YXJnZXQucmVzdWx0KTsKICAgICAgfTsKICAgICAgcmVhZGVyLnJlYWRBc0FycmF5QnVmZmVyKGZpbGUpOwogICAgfSk7CiAgICAvLyBXYWl0IGZvciB0aGUgZGF0YSB0byBiZSByZWFkeS4KICAgIGxldCBmaWxlRGF0YSA9IHlpZWxkIHsKICAgICAgcHJvbWlzZTogZmlsZURhdGFQcm9taXNlLAogICAgICByZXNwb25zZTogewogICAgICAgIGFjdGlvbjogJ2NvbnRpbnVlJywKICAgICAgfQogICAgfTsKCiAgICAvLyBVc2UgYSBjaHVua2VkIHNlbmRpbmcgdG8gYXZvaWQgbWVzc2FnZSBzaXplIGxpbWl0cy4gU2VlIGIvNjIxMTU2NjAuCiAgICBsZXQgcG9zaXRpb24gPSAwOwogICAgd2hpbGUgKHBvc2l0aW9uIDwgZmlsZURhdGEuYnl0ZUxlbmd0aCkgewogICAgICBjb25zdCBsZW5ndGggPSBNYXRoLm1pbihmaWxlRGF0YS5ieXRlTGVuZ3RoIC0gcG9zaXRpb24sIE1BWF9QQVlMT0FEX1NJWkUpOwogICAgICBjb25zdCBjaHVuayA9IG5ldyBVaW50OEFycmF5KGZpbGVEYXRhLCBwb3NpdGlvbiwgbGVuZ3RoKTsKICAgICAgcG9zaXRpb24gKz0gbGVuZ3RoOwoKICAgICAgY29uc3QgYmFzZTY0ID0gYnRvYShTdHJpbmcuZnJvbUNoYXJDb2RlLmFwcGx5KG51bGwsIGNodW5rKSk7CiAgICAgIHlpZWxkIHsKICAgICAgICByZXNwb25zZTogewogICAgICAgICAgYWN0aW9uOiAnYXBwZW5kJywKICAgICAgICAgIGZpbGU6IGZpbGUubmFtZSwKICAgICAgICAgIGRhdGE6IGJhc2U2NCwKICAgICAgICB9LAogICAgICB9OwogICAgICBwZXJjZW50LnRleHRDb250ZW50ID0KICAgICAgICAgIGAke01hdGgucm91bmQoKHBvc2l0aW9uIC8gZmlsZURhdGEuYnl0ZUxlbmd0aCkgKiAxMDApfSUgZG9uZWA7CiAgICB9CiAgfQoKICAvLyBBbGwgZG9uZS4KICB5aWVsZCB7CiAgICByZXNwb25zZTogewogICAgICBhY3Rpb246ICdjb21wbGV0ZScsCiAgICB9CiAgfTsKfQoKc2NvcGUuZ29vZ2xlID0gc2NvcGUuZ29vZ2xlIHx8IHt9OwpzY29wZS5nb29nbGUuY29sYWIgPSBzY29wZS5nb29nbGUuY29sYWIgfHwge307CnNjb3BlLmdvb2dsZS5jb2xhYi5fZmlsZXMgPSB7CiAgX3VwbG9hZEZpbGVzLAogIF91cGxvYWRGaWxlc0NvbnRpbnVlLAp9Owp9KShzZWxmKTsK",
              "ok": true,
              "headers": [
                [
                  "content-type",
                  "application/javascript"
                ]
              ],
              "status": 200,
              "status_text": ""
            }
          },
          "base_uri": "https://localhost:8080/",
          "height": 112
        },
        "outputId": "1733ac31-f9fa-438a-bc55-5ac7d857e23f"
      },
      "source": [
        "# このセルはGoogle Colaboratory使用時のみ必要\n",
        "from google.colab import files\n",
        "f = files.upload() # ファイルアップロード"
      ],
      "execution_count": 128,
      "outputs": [
        {
          "output_type": "display_data",
          "data": {
            "text/html": [
              "\n",
              "     <input type=\"file\" id=\"files-70511d4b-334a-4229-8fc0-b2dc77505aae\" name=\"files[]\" multiple disabled\n",
              "        style=\"border:none\" />\n",
              "     <output id=\"result-70511d4b-334a-4229-8fc0-b2dc77505aae\">\n",
              "      Upload widget is only available when the cell has been executed in the\n",
              "      current browser session. Please rerun this cell to enable.\n",
              "      </output>\n",
              "      <script src=\"/nbextensions/google.colab/files.js\"></script> "
            ],
            "text/plain": [
              "<IPython.core.display.HTML object>"
            ]
          },
          "metadata": {
            "tags": []
          }
        },
        {
          "output_type": "stream",
          "text": [
            "Saving flowers_mini2.jpg to flowers_mini2.jpg\n",
            "Saving wagashi_part_small3.png to wagashi_part_small3 (8).png\n"
          ],
          "name": "stdout"
        }
      ]
    },
    {
      "cell_type": "markdown",
      "metadata": {
        "id": "ACN43HYvIycg",
        "colab_type": "text"
      },
      "source": [
        "> 9.2. Implement a mean shift segmenter.\n",
        "\n",
        "以下, 自作したmean shiftによるセグメンタの実装を示す.\n",
        "\n",
        "なお, 以下サイトを参考にした.  \n",
        "\n",
        "- Mean Shift Clusteringについて  \n",
        "http://takashiijiri.com/study/ImgProc/MeanShift.htm\n",
        "\n",
        "- Mean Shift Filteringの収束値  \n",
        "https://www.orfeo-toolbox.org/CookBook/Applications/app_MeanShiftSmoothing.html"
      ]
    },
    {
      "cell_type": "code",
      "metadata": {
        "id": "wHqYdg_eIndv",
        "colab_type": "code",
        "colab": {}
      },
      "source": [
        "## Utilities\n",
        "# パスから画像をRGBで取得\n",
        "def GetImage(file_path, cv_option=cv2.COLOR_BGR2RGB, is_show=False):\n",
        "  img = cv2.imread(file_path)\n",
        "  img = cv2.cvtColor(img, cv_option)\n",
        "\n",
        "  if is_show:\n",
        "    plt.title('Acquired Image'), plt.xticks([]), plt.yticks([])\n",
        "    plt.imshow(img)\n",
        "\n",
        "  return img\n",
        "\n",
        "# オリジナル画像を表示\n",
        "def ShowOriginal(file_path):\n",
        "  GetImage(file_path)\n",
        "  plt.title('Original Image'), plt.xticks([]), plt.yticks([])\n",
        "  plt.imshow(img)\n",
        "\n",
        "def ConvertRGB2LUV(img):\n",
        "  img = img / 255.  # from 0 to 1\n",
        "  img = img.astype(np.float32)\n",
        "  # img = cp.asarray(img)\n",
        "  return cv2.cvtColor(img, cv2.COLOR_RGB2Luv)"
      ],
      "execution_count": 118,
      "outputs": []
    },
    {
      "cell_type": "code",
      "metadata": {
        "id": "PwhkG3zGKYtx",
        "colab_type": "code",
        "colab": {}
      },
      "source": [
        "## Mean shift filtering\n",
        "\n",
        "def normal(x):\n",
        "  return math.exp(-1/2. * x)\n",
        "def diff_normal(x):\n",
        "  return -1/2. * math.exp(-1/2. * x)\n",
        "\n",
        "def epanechnikov(x):\n",
        "  return 0 if x > 1 else 1 - x\n",
        "def diff_spanechnikov(x):\n",
        "  return 0 if x > 1 else -1\n",
        "\n",
        "def uniform(x):\n",
        "  return 0 if x < 0 or x > 1 else 1\n",
        "def diff_uniform(x):\n",
        "  return 0\n",
        "\n",
        "# 画素位置(xi, yi)と画素値(Li, ui, vi)の結合ベクトルを取得\n",
        "def GetBilateralVector(img):\n",
        "  return [[np.array([y, x], dtype=np.float64), img[y, x]] for y in range(img.shape[0]) for x in range(img.shape[1])]\n",
        "\n",
        "# 今回はプロファイルをガウシアンを用いたものに固定\n",
        "k = normal\n",
        "g = diff_normal\n",
        "\n",
        "# Mean shiftを計算する\n",
        "def CalcNextMeanShift(x, y, h_params):\n",
        "  # 更新値 y(j+1) = Σα(i)x(i) / Σα(i) を計算する\n",
        "  # αs(i) = g(i, hs) * k(i, hr), αr(i) = g(i, hr) * k(i, hs)\n",
        "\n",
        "  ys_next = CalcMeanWeightedSum(x, 0, y, h_params)\n",
        "  yr_next = CalcMeanWeightedSum(x, 1, y, h_params)\n",
        "  return ys_next, yr_next\n",
        "\n",
        "def CalcMeanWeightedSum(x, d, y, h_params): # d: 0 -> space, 1 -> color\n",
        "  length_x = len(x)\n",
        "  not_d = 0 if d == 1 else 1\n",
        "  h_main_sq = h_params[d] ** 2\n",
        "  h_sub_sq = h_params[not_d] ** 2\n",
        "  y_main = y[d]\n",
        "  y_sub = y[not_d]\n",
        "\n",
        "  # 分母成分\n",
        "  denom = np.array([g(sum((y_main-x[i][d]) ** 2) / h_main_sq) *\\\n",
        "                    k(sum((y_sub-x[i][not_d]) ** 2) / h_sub_sq)\n",
        "                    for i in range(length_x)])\n",
        "  # 分子成分\n",
        "  numer = np.array([denom[i] * x[i][d] for i in range(length_x)])\n",
        "\n",
        "  return np.sum(numer, axis=0) / np.sum(denom)\n",
        "\n",
        "def ExcecuteMeanShiftFiltering(img, hs, hr, eps=1e-1):\n",
        "  luv_img = ConvertRGB2LUV(img)\n",
        "  x = GetBilateralVector(luv_img)\n",
        "  img_h, img_w, _ = img.shape\n",
        "  n = img_h * img_w\n",
        "  result = []\n",
        "\n",
        "  start = time.time()\n",
        "\n",
        "  for i in range(0, n):\n",
        "    ds = math.inf\n",
        "    dr = math.inf\n",
        "    y = x[i]\n",
        "\n",
        "    # Mean shift procedure\n",
        "    while ds > eps or dr > eps:\n",
        "      ys_next, yr_next = CalcNextMeanShift(x, y, [hs, hr])  # update y\n",
        "      ds = np.linalg.norm(y[0] - ys_next)\n",
        "      dr = np.linalg.norm(y[1] - yr_next)\n",
        "      y = [ys_next, yr_next]\n",
        "      # print('ds: ' + str(ds) + ' dr: ' + str(dr))\n",
        "\n",
        "    result.append(y)\n",
        "\n",
        "    # 10画素ごとに進捗状況を表示\n",
        "    if i % 10 == 0:\n",
        "      print(i)\n",
        "\n",
        "  elapsed_time = time.time() - start\n",
        "  print (\"normal elapsed_time:{0}\".format(elapsed_time) + \"[sec]\")\n",
        "  \n",
        "  return result\n"
      ],
      "execution_count": 119,
      "outputs": []
    },
    {
      "cell_type": "code",
      "metadata": {
        "id": "ienftm7pt_3c",
        "colab_type": "code",
        "colab": {}
      },
      "source": [
        "# Mean shiftの結果から平滑化画像として出力\n",
        "def ShowSmoothed(res, img_shape):\n",
        "  filtered = np.empty(img_shape, dtype=np.float32)\n",
        "\n",
        "  # ここは速度気にしてません\n",
        "  for i in range(img_shape[0]):\n",
        "    for j in range(img_shape[1]):\n",
        "      filtered[i, j] = res[i * img_shape[0] + j][1]\n",
        "\n",
        "  out_rgb2 = cv2.cvtColor(filtered, cv2.COLOR_Luv2RGB)\n",
        "  plt.imshow(out_rgb2)"
      ],
      "execution_count": 120,
      "outputs": []
    },
    {
      "cell_type": "code",
      "metadata": {
        "id": "9eSf_cGQ9uqg",
        "colab_type": "code",
        "colab": {}
      },
      "source": [
        "# Mean shiftの結果からセグメンテーションを行う\n",
        "def ExcecuteSegmentation(res, hs, hr, img_shape, m=4, show_dendro=False):\n",
        "  # hsとhrについて階層クラスタリングによるセグメンテーションを行い, \n",
        "  # 双方のラベル付けが異なるセグメントがあればその部分は新たにラベル付けする\n",
        "\n",
        "  # 階層クラスタリング\n",
        "  data_s = np.array([res[i][0] for i in range(len(res))])\n",
        "  Zs = linkage(data_s, 'ward')\n",
        "  data_r = np.array([res[i][1] for i in range(len(res))])\n",
        "  Zr = linkage(data_r, 'ward')\n",
        "\n",
        "  # クラスタリング結果からセグメンテーション\n",
        "  cs = fcluster(Zs, hs, criterion='distance')\n",
        "  cr = fcluster(Zr, hr, criterion='distance')\n",
        "\n",
        "  # 新たなラベル付けを行う\n",
        "  # まずタプルでラベル付けし, その後各組に新しく整数のラベルを振る\n",
        "  c = [(cs[i], cr[i]) for i in range(len(res))]\n",
        "  labels = np.array(range(len(set(c)))) + 1\n",
        "  label_dict = dict(zip(set(c), labels)) # タプルと整数ラベルを対応付け\n",
        "  c = [label_dict[c[i]] for i in range(len(res))]\n",
        "\n",
        "  segmented =  np.array(c).reshape(img_shape)\n",
        "\n",
        "  # セグメンテーション結果表示\n",
        "  plt.title('Result of segmentation using mean shift filtering'), plt.xticks([]), plt.yticks([])\n",
        "  plt.imshow(segmented)\n",
        "  print('the number of clusters: ' + str(len(labels)))"
      ],
      "execution_count": 121,
      "outputs": []
    },
    {
      "cell_type": "markdown",
      "metadata": {
        "id": "-FyCNZaB9FMA",
        "colab_type": "text"
      },
      "source": [
        "以下, 次の順序で実行した様子を示す  \n",
        "- 画像読み込み\n",
        "- Mean Shift Filteringの実行\n",
        "- Filtering実行結果からフィルター画像を表示\n",
        "- Filtering実行結果からセグメンテーションを実行し画像を表示"
      ]
    },
    {
      "cell_type": "code",
      "metadata": {
        "id": "Y58J6EWdpDua",
        "colab_type": "code",
        "colab": {
          "base_uri": "https://localhost:8080/",
          "height": 286
        },
        "outputId": "c628d131-f51a-4aec-a1f5-c5224550c0ff"
      },
      "source": [
        "# 画像の読み込み\n",
        "path = 'wagashi_part_small3.png'\n",
        "img = GetImage(path, is_show=True)\n",
        "print(img.shape)"
      ],
      "execution_count": 122,
      "outputs": [
        {
          "output_type": "stream",
          "text": [
            "(22, 22, 3)\n"
          ],
          "name": "stdout"
        },
        {
          "output_type": "display_data",
          "data": {
            "image/png": "[encoded data removed]",
            "text/plain": [
              "<Figure size 432x288 with 1 Axes>"
            ]
          },
          "metadata": {
            "tags": []
          }
        }
      ]
    },
    {
      "cell_type": "code",
      "metadata": {
        "id": "fYhuG91R-X7Z",
        "colab_type": "code",
        "colab": {
          "base_uri": "https://localhost:8080/",
          "height": 897
        },
        "outputId": "c3894015-2525-46f2-b66d-a92fdbe30d76"
      },
      "source": [
        "# Mean Shift Filteringの実行\n",
        "hs = 8\n",
        "hr = 8\n",
        "y = ExcecuteMeanShiftFiltering(img, hs, hr)"
      ],
      "execution_count": 123,
      "outputs": [
        {
          "output_type": "stream",
          "text": [
            "0\n",
            "10\n",
            "20\n",
            "30\n",
            "40\n",
            "50\n",
            "60\n",
            "70\n",
            "80\n",
            "90\n",
            "100\n",
            "110\n",
            "120\n",
            "130\n",
            "140\n",
            "150\n",
            "160\n",
            "170\n",
            "180\n",
            "190\n",
            "200\n",
            "210\n",
            "220\n",
            "230\n",
            "240\n",
            "250\n",
            "260\n",
            "270\n",
            "280\n",
            "290\n",
            "300\n",
            "310\n",
            "320\n",
            "330\n",
            "340\n",
            "350\n",
            "360\n",
            "370\n",
            "380\n",
            "390\n",
            "400\n",
            "410\n",
            "420\n",
            "430\n",
            "440\n",
            "450\n",
            "460\n",
            "470\n",
            "480\n",
            "normal elapsed_time:111.54399847984314[sec]\n"
          ],
          "name": "stdout"
        }
      ]
    },
    {
      "cell_type": "code",
      "metadata": {
        "id": "3ymRAl-_-a24",
        "colab_type": "code",
        "colab": {
          "base_uri": "https://localhost:8080/",
          "height": 265
        },
        "outputId": "f5b71e8b-5a66-4625-b834-3d9875d6fb79"
      },
      "source": [
        "# Mean shiftの結果から平滑化画像として出力\n",
        "ShowSmoothed(y, img.shape)"
      ],
      "execution_count": 124,
      "outputs": [
        {
          "output_type": "display_data",
          "data": {
            "image/png": "[encoded data removed]",
            "text/plain": [
              "<Figure size 432x288 with 1 Axes>"
            ]
          },
          "metadata": {
            "tags": [],
            "needs_background": "light"
          }
        }
      ]
    },
    {
      "cell_type": "code",
      "metadata": {
        "id": "QhaIDsHcYqy0",
        "colab_type": "code",
        "colab": {
          "base_uri": "https://localhost:8080/",
          "height": 286
        },
        "outputId": "644b29ef-5e21-42a8-c068-4c44c68fc210"
      },
      "source": [
        "# セグメンテーションを実行し結果を表示\n",
        "ExcecuteSegmentation(y, hs, hr, img.shape[:2], show_dendro=True)"
      ],
      "execution_count": 125,
      "outputs": [
        {
          "output_type": "stream",
          "text": [
            "the number of clusters: 5\n"
          ],
          "name": "stdout"
        },
        {
          "output_type": "display_data",
          "data": {
            "image/png": "[encoded data removed]",
            "text/plain": [
              "<Figure size 432x288 with 1 Axes>"
            ]
          },
          "metadata": {
            "tags": []
          }
        }
      ]
    },
    {
      "cell_type": "markdown",
      "metadata": {
        "id": "ymeVZ0mo89nC",
        "colab_type": "text"
      },
      "source": [
        "もう一つの例"
      ]
    },
    {
      "cell_type": "code",
      "metadata": {
        "id": "SI7KPMbsYrvH",
        "colab_type": "code",
        "colab": {
          "base_uri": "https://localhost:8080/",
          "height": 286
        },
        "outputId": "57d53783-ab7b-4e89-d368-036783713b87"
      },
      "source": [
        "# 画像の読み込み\n",
        "path = 'flowers_mini2.jpg'\n",
        "img = GetImage(path, is_show=True)\n",
        "print(img.shape)"
      ],
      "execution_count": 129,
      "outputs": [
        {
          "output_type": "stream",
          "text": [
            "(27, 27, 3)\n"
          ],
          "name": "stdout"
        },
        {
          "output_type": "display_data",
          "data": {
            "image/png": "[encoded data removed]",
            "text/plain": [
              "<Figure size 432x288 with 1 Axes>"
            ]
          },
          "metadata": {
            "tags": []
          }
        }
      ]
    },
    {
      "cell_type": "code",
      "metadata": {
        "id": "zd51D8A1YvhY",
        "colab_type": "code",
        "colab": {
          "base_uri": "https://localhost:8080/",
          "height": 1000
        },
        "outputId": "5cdcfa0a-da71-478f-af07-0aad740b4b9b"
      },
      "source": [
        "# Mean Shift Filteringの実行\n",
        "hs = 8\n",
        "hr = 8\n",
        "y = ExcecuteMeanShiftFiltering(img, hs, hr)"
      ],
      "execution_count": 131,
      "outputs": [
        {
          "output_type": "stream",
          "text": [
            "0\n",
            "10\n",
            "20\n",
            "30\n",
            "40\n",
            "50\n",
            "60\n",
            "70\n",
            "80\n",
            "90\n",
            "100\n",
            "110\n",
            "120\n",
            "130\n",
            "140\n",
            "150\n",
            "160\n",
            "170\n",
            "180\n",
            "190\n",
            "200\n",
            "210\n",
            "220\n",
            "230\n",
            "240\n",
            "250\n",
            "260\n",
            "270\n",
            "280\n",
            "290\n",
            "300\n",
            "310\n",
            "320\n",
            "330\n",
            "340\n",
            "350\n",
            "360\n",
            "370\n",
            "380\n",
            "390\n",
            "400\n",
            "410\n",
            "420\n",
            "430\n",
            "440\n",
            "450\n",
            "460\n",
            "470\n",
            "480\n",
            "490\n",
            "500\n",
            "510\n",
            "520\n",
            "530\n",
            "540\n",
            "550\n",
            "560\n",
            "570\n",
            "580\n",
            "590\n",
            "600\n",
            "610\n",
            "620\n",
            "630\n",
            "640\n",
            "650\n",
            "660\n",
            "670\n",
            "680\n",
            "690\n",
            "700\n",
            "710\n",
            "720\n",
            "normal elapsed_time:177.68622469902039[sec]\n"
          ],
          "name": "stdout"
        }
      ]
    },
    {
      "cell_type": "code",
      "metadata": {
        "id": "JcXJLbOybyv3",
        "colab_type": "code",
        "colab": {
          "base_uri": "https://localhost:8080/",
          "height": 265
        },
        "outputId": "a39d7c77-6f61-46b4-a4c2-bbf4f09f1b29"
      },
      "source": [
        "# Mean shiftの結果から平滑化画像として出力\n",
        "ShowSmoothed(y, img.shape)"
      ],
      "execution_count": 132,
      "outputs": [
        {
          "output_type": "display_data",
          "data": {
            "image/png": "[encoded data removed]",
            "text/plain": [
              "<Figure size 432x288 with 1 Axes>"
            ]
          },
          "metadata": {
            "tags": [],
            "needs_background": "light"
          }
        }
      ]
    },
    {
      "cell_type": "code",
      "metadata": {
        "id": "TRxQdCm9cBsq",
        "colab_type": "code",
        "colab": {
          "base_uri": "https://localhost:8080/",
          "height": 286
        },
        "outputId": "6744ac0e-4fee-4767-fd89-4b5b35285969"
      },
      "source": [
        "# セグメンテーションを実行し結果を表示\n",
        "ExcecuteSegmentation(y, hs, hr, img.shape[:2], show_dendro=True)"
      ],
      "execution_count": 133,
      "outputs": [
        {
          "output_type": "stream",
          "text": [
            "the number of clusters: 6\n"
          ],
          "name": "stdout"
        },
        {
          "output_type": "display_data",
          "data": {
            "image/png": "[encoded data removed]",
            "text/plain": [
              "<Figure size 432x288 with 1 Axes>"
            ]
          },
          "metadata": {
            "tags": []
          }
        }
      ]
    }
  ]
}